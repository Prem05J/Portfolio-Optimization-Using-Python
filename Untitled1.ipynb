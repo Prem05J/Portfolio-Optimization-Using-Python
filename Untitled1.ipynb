{
  "nbformat": 4,
  "nbformat_minor": 0,
  "metadata": {
    "colab": {
      "name": "Untitled1.ipynb",
      "provenance": [],
      "collapsed_sections": []
    },
    "kernelspec": {
      "name": "python3",
      "display_name": "Python 3"
    }
  },
  "cells": [
    {
      "cell_type": "code",
      "metadata": {
        "id": "2Fnx84afSCU4"
      },
      "source": [
        "from pandas_datareader import data as web\r\n",
        "import pandas as pd\r\n",
        "import numpy as np \r\n",
        "import matplotlib.pyplot as plt\r\n",
        "from datetime import datetime\r\n",
        "plt.style.use('fivethirtyeight')"
      ],
      "execution_count": null,
      "outputs": []
    },
    {
      "cell_type": "code",
      "metadata": {
        "id": "oB-s23sTRuQM"
      },
      "source": [
        "asset = ['DATAMATICS.NS' , 'RELIANCE.NS' , 'TCS.NS']"
      ],
      "execution_count": null,
      "outputs": []
    },
    {
      "cell_type": "code",
      "metadata": {
        "id": "DUcgOHYwSOyn"
      },
      "source": [
        "size  = np.array([0.2 , 0.2 , 0.2])"
      ],
      "execution_count": null,
      "outputs": []
    },
    {
      "cell_type": "code",
      "metadata": {
        "id": "NHTr8Xw0SRHB"
      },
      "source": [
        "startdate = '2011-03-01'"
      ],
      "execution_count": null,
      "outputs": []
    },
    {
      "cell_type": "code",
      "metadata": {
        "id": "5NsUZDB0STk7"
      },
      "source": [
        "enddate = datetime.today().strftime('%Y-%m-%d')"
      ],
      "execution_count": null,
      "outputs": []
    },
    {
      "cell_type": "code",
      "metadata": {
        "id": "0x_NsR0FSWLs"
      },
      "source": [
        "df= pd.DataFrame()"
      ],
      "execution_count": null,
      "outputs": []
    },
    {
      "cell_type": "code",
      "metadata": {
        "id": "xrToVTyaSYhk"
      },
      "source": [
        "for stock in asset:\r\n",
        "    df[stock] = web.DataReader(stock , data_source = 'yahoo' , start = startdate , end = enddate)['Adj Close']"
      ],
      "execution_count": null,
      "outputs": []
    },
    {
      "cell_type": "code",
      "metadata": {
        "colab": {
          "base_uri": "https://localhost:8080/",
          "height": 446
        },
        "id": "wyh_kB_ESbVZ",
        "outputId": "7533c4dc-de87-41a4-81a7-7cf891933ded"
      },
      "source": [
        "df"
      ],
      "execution_count": null,
      "outputs": [
        {
          "output_type": "execute_result",
          "data": {
            "text/html": [
              "<div>\n",
              "<style scoped>\n",
              "    .dataframe tbody tr th:only-of-type {\n",
              "        vertical-align: middle;\n",
              "    }\n",
              "\n",
              "    .dataframe tbody tr th {\n",
              "        vertical-align: top;\n",
              "    }\n",
              "\n",
              "    .dataframe thead th {\n",
              "        text-align: right;\n",
              "    }\n",
              "</style>\n",
              "<table border=\"1\" class=\"dataframe\">\n",
              "  <thead>\n",
              "    <tr style=\"text-align: right;\">\n",
              "      <th></th>\n",
              "      <th>DATAMATICS.NS</th>\n",
              "      <th>RELIANCE.NS</th>\n",
              "      <th>TCS.NS</th>\n",
              "    </tr>\n",
              "    <tr>\n",
              "      <th>Date</th>\n",
              "      <th></th>\n",
              "      <th></th>\n",
              "      <th></th>\n",
              "    </tr>\n",
              "  </thead>\n",
              "  <tbody>\n",
              "    <tr>\n",
              "      <th>2011-03-01</th>\n",
              "      <td>23.291243</td>\n",
              "      <td>426.240417</td>\n",
              "      <td>427.455322</td>\n",
              "    </tr>\n",
              "    <tr>\n",
              "      <th>2011-03-03</th>\n",
              "      <td>23.776480</td>\n",
              "      <td>421.304962</td>\n",
              "      <td>437.224548</td>\n",
              "    </tr>\n",
              "    <tr>\n",
              "      <th>2011-03-04</th>\n",
              "      <td>23.493429</td>\n",
              "      <td>423.373962</td>\n",
              "      <td>431.655792</td>\n",
              "    </tr>\n",
              "    <tr>\n",
              "      <th>2011-03-07</th>\n",
              "      <td>23.048630</td>\n",
              "      <td>421.154114</td>\n",
              "      <td>421.278320</td>\n",
              "    </tr>\n",
              "    <tr>\n",
              "      <th>2011-03-08</th>\n",
              "      <td>23.331682</td>\n",
              "      <td>424.559326</td>\n",
              "      <td>424.870331</td>\n",
              "    </tr>\n",
              "    <tr>\n",
              "      <th>...</th>\n",
              "      <td>...</td>\n",
              "      <td>...</td>\n",
              "      <td>...</td>\n",
              "    </tr>\n",
              "    <tr>\n",
              "      <th>2020-12-28</th>\n",
              "      <td>112.699997</td>\n",
              "      <td>2003.300049</td>\n",
              "      <td>2929.399902</td>\n",
              "    </tr>\n",
              "    <tr>\n",
              "      <th>2020-12-29</th>\n",
              "      <td>105.849998</td>\n",
              "      <td>1990.050049</td>\n",
              "      <td>2930.500000</td>\n",
              "    </tr>\n",
              "    <tr>\n",
              "      <th>2020-12-30</th>\n",
              "      <td>114.349998</td>\n",
              "      <td>1995.500000</td>\n",
              "      <td>2909.300049</td>\n",
              "    </tr>\n",
              "    <tr>\n",
              "      <th>2020-12-31</th>\n",
              "      <td>115.900002</td>\n",
              "      <td>1985.300049</td>\n",
              "      <td>2862.750000</td>\n",
              "    </tr>\n",
              "    <tr>\n",
              "      <th>2021-01-01</th>\n",
              "      <td>115.000000</td>\n",
              "      <td>1987.500000</td>\n",
              "      <td>2928.250000</td>\n",
              "    </tr>\n",
              "  </tbody>\n",
              "</table>\n",
              "<p>2422 rows × 3 columns</p>\n",
              "</div>"
            ],
            "text/plain": [
              "            DATAMATICS.NS  RELIANCE.NS       TCS.NS\n",
              "Date                                               \n",
              "2011-03-01      23.291243   426.240417   427.455322\n",
              "2011-03-03      23.776480   421.304962   437.224548\n",
              "2011-03-04      23.493429   423.373962   431.655792\n",
              "2011-03-07      23.048630   421.154114   421.278320\n",
              "2011-03-08      23.331682   424.559326   424.870331\n",
              "...                   ...          ...          ...\n",
              "2020-12-28     112.699997  2003.300049  2929.399902\n",
              "2020-12-29     105.849998  1990.050049  2930.500000\n",
              "2020-12-30     114.349998  1995.500000  2909.300049\n",
              "2020-12-31     115.900002  1985.300049  2862.750000\n",
              "2021-01-01     115.000000  1987.500000  2928.250000\n",
              "\n",
              "[2422 rows x 3 columns]"
            ]
          },
          "metadata": {
            "tags": []
          },
          "execution_count": 9
        }
      ]
    },
    {
      "cell_type": "code",
      "metadata": {
        "colab": {
          "base_uri": "https://localhost:8080/",
          "height": 325
        },
        "id": "iFDPh_LhScfN",
        "outputId": "abe33380-d7cd-4e84-ac0b-217af1ffeba2"
      },
      "source": [
        "plt.title('Stock Past Record')\r\n",
        "plt.plot(df['DATAMATICS.NS'], label = 'Datamatics' )\r\n",
        "plt.plot(df['RELIANCE.NS'] , label = 'Reliance' )\r\n",
        "plt.plot(df['TCS.NS']  , label = 'TCS' )\r\n",
        "plt.xlabel('Price_of_stock')\r\n",
        "plt.ylabel('Date')\r\n",
        "plt.legend(loc='upper left')\r\n",
        "plt.show()"
      ],
      "execution_count": null,
      "outputs": [
        {
          "output_type": "display_data",
          "data": {
            "image/png": "[encoded data removed]",
            "text/plain": [
              "<Figure size 432x288 with 1 Axes>"
            ]
          },
          "metadata": {
            "tags": []
          }
        }
      ]
    },
    {
      "cell_type": "code",
      "metadata": {
        "colab": {
          "base_uri": "https://localhost:8080/",
          "height": 446
        },
        "id": "BUxmwHlJSh5Y",
        "outputId": "84412026-58aa-42d9-e5ed-567cc30dc76a"
      },
      "source": [
        "#Show the return each day\r\n",
        "returns = df.pct_change()\r\n",
        "returns"
      ],
      "execution_count": null,
      "outputs": [
        {
          "output_type": "execute_result",
          "data": {
            "text/html": [
              "<div>\n",
              "<style scoped>\n",
              "    .dataframe tbody tr th:only-of-type {\n",
              "        vertical-align: middle;\n",
              "    }\n",
              "\n",
              "    .dataframe tbody tr th {\n",
              "        vertical-align: top;\n",
              "    }\n",
              "\n",
              "    .dataframe thead th {\n",
              "        text-align: right;\n",
              "    }\n",
              "</style>\n",
              "<table border=\"1\" class=\"dataframe\">\n",
              "  <thead>\n",
              "    <tr style=\"text-align: right;\">\n",
              "      <th></th>\n",
              "      <th>DATAMATICS.NS</th>\n",
              "      <th>RELIANCE.NS</th>\n",
              "      <th>TCS.NS</th>\n",
              "    </tr>\n",
              "    <tr>\n",
              "      <th>Date</th>\n",
              "      <th></th>\n",
              "      <th></th>\n",
              "      <th></th>\n",
              "    </tr>\n",
              "  </thead>\n",
              "  <tbody>\n",
              "    <tr>\n",
              "      <th>2011-03-01</th>\n",
              "      <td>NaN</td>\n",
              "      <td>NaN</td>\n",
              "      <td>NaN</td>\n",
              "    </tr>\n",
              "    <tr>\n",
              "      <th>2011-03-03</th>\n",
              "      <td>0.020833</td>\n",
              "      <td>-0.011579</td>\n",
              "      <td>0.022854</td>\n",
              "    </tr>\n",
              "    <tr>\n",
              "      <th>2011-03-04</th>\n",
              "      <td>-0.011905</td>\n",
              "      <td>0.004911</td>\n",
              "      <td>-0.012737</td>\n",
              "    </tr>\n",
              "    <tr>\n",
              "      <th>2011-03-07</th>\n",
              "      <td>-0.018933</td>\n",
              "      <td>-0.005243</td>\n",
              "      <td>-0.024041</td>\n",
              "    </tr>\n",
              "    <tr>\n",
              "      <th>2011-03-08</th>\n",
              "      <td>0.012281</td>\n",
              "      <td>0.008085</td>\n",
              "      <td>0.008526</td>\n",
              "    </tr>\n",
              "    <tr>\n",
              "      <th>...</th>\n",
              "      <td>...</td>\n",
              "      <td>...</td>\n",
              "      <td>...</td>\n",
              "    </tr>\n",
              "    <tr>\n",
              "      <th>2020-12-28</th>\n",
              "      <td>-0.026770</td>\n",
              "      <td>0.004588</td>\n",
              "      <td>0.006892</td>\n",
              "    </tr>\n",
              "    <tr>\n",
              "      <th>2020-12-29</th>\n",
              "      <td>-0.060781</td>\n",
              "      <td>-0.006614</td>\n",
              "      <td>0.000376</td>\n",
              "    </tr>\n",
              "    <tr>\n",
              "      <th>2020-12-30</th>\n",
              "      <td>0.080302</td>\n",
              "      <td>0.002739</td>\n",
              "      <td>-0.007234</td>\n",
              "    </tr>\n",
              "    <tr>\n",
              "      <th>2020-12-31</th>\n",
              "      <td>0.013555</td>\n",
              "      <td>-0.005111</td>\n",
              "      <td>-0.016000</td>\n",
              "    </tr>\n",
              "    <tr>\n",
              "      <th>2021-01-01</th>\n",
              "      <td>-0.007765</td>\n",
              "      <td>0.001108</td>\n",
              "      <td>0.022880</td>\n",
              "    </tr>\n",
              "  </tbody>\n",
              "</table>\n",
              "<p>2422 rows × 3 columns</p>\n",
              "</div>"
            ],
            "text/plain": [
              "            DATAMATICS.NS  RELIANCE.NS    TCS.NS\n",
              "Date                                            \n",
              "2011-03-01            NaN          NaN       NaN\n",
              "2011-03-03       0.020833    -0.011579  0.022854\n",
              "2011-03-04      -0.011905     0.004911 -0.012737\n",
              "2011-03-07      -0.018933    -0.005243 -0.024041\n",
              "2011-03-08       0.012281     0.008085  0.008526\n",
              "...                   ...          ...       ...\n",
              "2020-12-28      -0.026770     0.004588  0.006892\n",
              "2020-12-29      -0.060781    -0.006614  0.000376\n",
              "2020-12-30       0.080302     0.002739 -0.007234\n",
              "2020-12-31       0.013555    -0.005111 -0.016000\n",
              "2021-01-01      -0.007765     0.001108  0.022880\n",
              "\n",
              "[2422 rows x 3 columns]"
            ]
          },
          "metadata": {
            "tags": []
          },
          "execution_count": 11
        }
      ]
    },
    {
      "cell_type": "code",
      "metadata": {
        "id": "iOQZ3lHbSru9"
      },
      "source": [
        "#Covaraiance\r\n",
        "Cov_return = returns.cov() * 252"
      ],
      "execution_count": null,
      "outputs": []
    },
    {
      "cell_type": "code",
      "metadata": {
        "colab": {
          "base_uri": "https://localhost:8080/",
          "height": 141
        },
        "id": "FkX0KiQHS1Bb",
        "outputId": "36595124-6ae1-43e6-884c-2d88bed469fb"
      },
      "source": [
        "Cov_return"
      ],
      "execution_count": null,
      "outputs": [
        {
          "output_type": "execute_result",
          "data": {
            "text/html": [
              "<div>\n",
              "<style scoped>\n",
              "    .dataframe tbody tr th:only-of-type {\n",
              "        vertical-align: middle;\n",
              "    }\n",
              "\n",
              "    .dataframe tbody tr th {\n",
              "        vertical-align: top;\n",
              "    }\n",
              "\n",
              "    .dataframe thead th {\n",
              "        text-align: right;\n",
              "    }\n",
              "</style>\n",
              "<table border=\"1\" class=\"dataframe\">\n",
              "  <thead>\n",
              "    <tr style=\"text-align: right;\">\n",
              "      <th></th>\n",
              "      <th>DATAMATICS.NS</th>\n",
              "      <th>RELIANCE.NS</th>\n",
              "      <th>TCS.NS</th>\n",
              "    </tr>\n",
              "  </thead>\n",
              "  <tbody>\n",
              "    <tr>\n",
              "      <th>DATAMATICS.NS</th>\n",
              "      <td>0.314333</td>\n",
              "      <td>0.029951</td>\n",
              "      <td>0.015131</td>\n",
              "    </tr>\n",
              "    <tr>\n",
              "      <th>RELIANCE.NS</th>\n",
              "      <td>0.029951</td>\n",
              "      <td>0.084782</td>\n",
              "      <td>0.018950</td>\n",
              "    </tr>\n",
              "    <tr>\n",
              "      <th>TCS.NS</th>\n",
              "      <td>0.015131</td>\n",
              "      <td>0.018950</td>\n",
              "      <td>0.067480</td>\n",
              "    </tr>\n",
              "  </tbody>\n",
              "</table>\n",
              "</div>"
            ],
            "text/plain": [
              "               DATAMATICS.NS  RELIANCE.NS    TCS.NS\n",
              "DATAMATICS.NS       0.314333     0.029951  0.015131\n",
              "RELIANCE.NS         0.029951     0.084782  0.018950\n",
              "TCS.NS              0.015131     0.018950  0.067480"
            ]
          },
          "metadata": {
            "tags": []
          },
          "execution_count": 13
        }
      ]
    },
    {
      "cell_type": "code",
      "metadata": {
        "colab": {
          "base_uri": "https://localhost:8080/"
        },
        "id": "GjClMjbFS21Q",
        "outputId": "922f4980-0335-4d5d-c8c7-ef3b58bf51e0"
      },
      "source": [
        "#Portfolio Variance\r\n",
        "port_var = np.dot(size.T , np.dot(Cov_return , size))\r\n",
        "port_var"
      ],
      "execution_count": null,
      "outputs": [
        {
          "output_type": "execute_result",
          "data": {
            "text/plain": [
              "0.023786333578569383"
            ]
          },
          "metadata": {
            "tags": []
          },
          "execution_count": 14
        }
      ]
    },
    {
      "cell_type": "code",
      "metadata": {
        "colab": {
          "base_uri": "https://localhost:8080/"
        },
        "id": "KpXmIBsCS53N",
        "outputId": "32fd00e8-df11-4ecd-ce69-3090f712ee42"
      },
      "source": [
        "#Volatility\r\n",
        "port_vol = np.sqrt(port_var)\r\n",
        "port_vol"
      ],
      "execution_count": null,
      "outputs": [
        {
          "output_type": "execute_result",
          "data": {
            "text/plain": [
              "0.15422818671880112"
            ]
          },
          "metadata": {
            "tags": []
          },
          "execution_count": 15
        }
      ]
    },
    {
      "cell_type": "code",
      "metadata": {
        "id": "MOfPnNduS_zn"
      },
      "source": [
        "Annaulsimplereturn = np.sum(returns.mean()*size)*252"
      ],
      "execution_count": null,
      "outputs": []
    },
    {
      "cell_type": "code",
      "metadata": {
        "colab": {
          "base_uri": "https://localhost:8080/"
        },
        "id": "98NS8TRNTCWG",
        "outputId": "64f5d840-c9bc-43d1-cd64-80b033b700f1"
      },
      "source": [
        "Annaulsimplereturn"
      ],
      "execution_count": null,
      "outputs": [
        {
          "output_type": "execute_result",
          "data": {
            "text/plain": [
              "0.1513695938456659"
            ]
          },
          "metadata": {
            "tags": []
          },
          "execution_count": 17
        }
      ]
    },
    {
      "cell_type": "code",
      "metadata": {
        "colab": {
          "base_uri": "https://localhost:8080/"
        },
        "id": "9TGyL9S4TEoi",
        "outputId": "4ec84cb1-2728-41d5-a713-b197e0c01f87"
      },
      "source": [
        "port_vars = str(round(port_var, 2 ) * 100) + '%'\r\n",
        "port_vols = str(round(port_vol, 2 ) * 100)+ '%'\r\n",
        "Annaulsimplereturns = str(round(Annaulsimplereturn , 2) * 100)+'%'\r\n",
        "\r\n",
        "print('Portfolio Variablity '+ port_vars) \r\n",
        "print('Portfolio Volality ' + port_vols) \r\n",
        "print('Annual Simple Return ' + Annaulsimplereturns )"
      ],
      "execution_count": null,
      "outputs": [
        {
          "output_type": "stream",
          "text": [
            "Portfolio Variablity 2.0%\n",
            "Portfolio Volality 15.0%\n",
            "Annual Simple Return 15.0%\n"
          ],
          "name": "stdout"
        }
      ]
    },
    {
      "cell_type": "code",
      "metadata": {
        "colab": {
          "base_uri": "https://localhost:8080/"
        },
        "id": "dG5zWyNKTIcO",
        "outputId": "de1cd6ec-9c6a-45ce-f519-6fce1168ef5a"
      },
      "source": [
        "pip install PyPortfolioOpt"
      ],
      "execution_count": null,
      "outputs": [
        {
          "output_type": "stream",
          "text": [
            "Requirement already satisfied: PyPortfolioOpt in /usr/local/lib/python3.6/dist-packages (1.2.7)\n",
            "Requirement already satisfied: pandas>=0.19 in /usr/local/lib/python3.6/dist-packages (from PyPortfolioOpt) (1.1.5)\n",
            "Requirement already satisfied: numpy<2.0,>=1.12 in /usr/local/lib/python3.6/dist-packages (from PyPortfolioOpt) (1.19.4)\n",
            "Requirement already satisfied: cvxopt<2.0,>=1.2 in /usr/local/lib/python3.6/dist-packages (from PyPortfolioOpt) (1.2.5)\n",
            "Requirement already satisfied: scipy<2.0,>=1.3 in /usr/local/lib/python3.6/dist-packages (from PyPortfolioOpt) (1.4.1)\n",
            "Requirement already satisfied: cvxpy<2.0,>=1.0 in /usr/local/lib/python3.6/dist-packages (from PyPortfolioOpt) (1.0.31)\n",
            "Requirement already satisfied: python-dateutil>=2.7.3 in /usr/local/lib/python3.6/dist-packages (from pandas>=0.19->PyPortfolioOpt) (2.8.1)\n",
            "Requirement already satisfied: pytz>=2017.2 in /usr/local/lib/python3.6/dist-packages (from pandas>=0.19->PyPortfolioOpt) (2018.9)\n",
            "Requirement already satisfied: osqp>=0.4.1 in /usr/local/lib/python3.6/dist-packages (from cvxpy<2.0,>=1.0->PyPortfolioOpt) (0.6.1)\n",
            "Requirement already satisfied: ecos>=2 in /usr/local/lib/python3.6/dist-packages (from cvxpy<2.0,>=1.0->PyPortfolioOpt) (2.0.7.post1)\n",
            "Requirement already satisfied: scs>=1.1.3 in /usr/local/lib/python3.6/dist-packages (from cvxpy<2.0,>=1.0->PyPortfolioOpt) (2.1.2)\n",
            "Requirement already satisfied: multiprocess in /usr/local/lib/python3.6/dist-packages (from cvxpy<2.0,>=1.0->PyPortfolioOpt) (0.70.11.1)\n",
            "Requirement already satisfied: six>=1.5 in /usr/local/lib/python3.6/dist-packages (from python-dateutil>=2.7.3->pandas>=0.19->PyPortfolioOpt) (1.15.0)\n",
            "Requirement already satisfied: future in /usr/local/lib/python3.6/dist-packages (from osqp>=0.4.1->cvxpy<2.0,>=1.0->PyPortfolioOpt) (0.16.0)\n",
            "Requirement already satisfied: dill>=0.3.3 in /usr/local/lib/python3.6/dist-packages (from multiprocess->cvxpy<2.0,>=1.0->PyPortfolioOpt) (0.3.3)\n"
          ],
          "name": "stdout"
        }
      ]
    },
    {
      "cell_type": "code",
      "metadata": {
        "id": "eeWm--oFTMXm"
      },
      "source": [
        "from pypfopt.efficient_frontier import EfficientFrontier\r\n",
        "from pypfopt import risk_models\r\n",
        "from pypfopt import expected_returns"
      ],
      "execution_count": null,
      "outputs": []
    },
    {
      "cell_type": "code",
      "metadata": {
        "colab": {
          "base_uri": "https://localhost:8080/"
        },
        "id": "HEjrS2svT6cU",
        "outputId": "9376400f-a188-4279-bf33-d80121dd9c6f"
      },
      "source": [
        "m = expected_returns.mean_historical_return(df)\r\n",
        "S = risk_models.sample_cov(df)\r\n",
        "\r\n",
        "\r\n",
        "Ef = EfficientFrontier(m , S)\r\n",
        "weight = Ef.max_sharpe()\r\n",
        "Cleaned_weight = Ef.clean_weights()\r\n",
        "\r\n",
        "print(Cleaned_weight)\r\n",
        "Ef.portfolio_performance(verbose = True)"
      ],
      "execution_count": null,
      "outputs": [
        {
          "output_type": "stream",
          "text": [
            "OrderedDict([('DATAMATICS.NS', 0.06917), ('RELIANCE.NS', 0.28174), ('TCS.NS', 0.64909)])\n",
            "Expected annual return: 20.5%\n",
            "Annual volatility: 21.5%\n",
            "Sharpe Ratio: 0.86\n"
          ],
          "name": "stdout"
        },
        {
          "output_type": "execute_result",
          "data": {
            "text/plain": [
              "(0.20542652406844622, 0.2147583370996521, 0.8634194442584302)"
            ]
          },
          "metadata": {
            "tags": []
          },
          "execution_count": 26
        }
      ]
    },
    {
      "cell_type": "code",
      "metadata": {
        "colab": {
          "base_uri": "https://localhost:8080/"
        },
        "id": "RM9gcuwXV209",
        "outputId": "c2dc9736-35f4-4341-ba92-55e2b03bb1c8"
      },
      "source": [
        "#Discrete Allocation Method\r\n",
        "from pypfopt.discrete_allocation import DiscreteAllocation , get_latest_prices\r\n",
        "\r\n",
        "latest_price = get_latest_prices(df)\r\n",
        "weights = Cleaned_weight\r\n",
        "disall = DiscreteAllocation(weights ,  latest_price , total_portfolio_value = 300000)\r\n",
        "\r\n",
        "\r\n",
        "Allocation , Surplus_Fund = disall.lp_portfolio()\r\n",
        "\r\n",
        "print('Number of Share to Invest' , Allocation)\r\n",
        "print('Money Leftover Rs.{:.2f}' .format(Surplus_Fund))"
      ],
      "execution_count": null,
      "outputs": [
        {
          "output_type": "stream",
          "text": [
            "Number of Share to Invest {'DATAMATICS.NS': 181, 'RELIANCE.NS': 43, 'TCS.NS': 66}\n",
            "Money Leftover Rs.458.00\n"
          ],
          "name": "stdout"
        }
      ]
    }
  ]
}